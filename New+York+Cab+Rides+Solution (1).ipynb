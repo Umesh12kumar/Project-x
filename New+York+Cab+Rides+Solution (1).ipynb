{
 "cells": [
  {
   "cell_type": "code",
   "execution_count": 1,
   "metadata": {},
   "outputs": [],
   "source": [
    "import pandas as pd, numpy as np"
   ]
  },
  {
   "cell_type": "markdown",
   "metadata": {},
   "source": [
    "#### 1.1 Load and Inspect your dataset by printing it's head. \n"
   ]
  },
  {
   "cell_type": "code",
   "execution_count": 14,
   "metadata": {},
   "outputs": [],
   "source": [
    "cabs=pd.read_csv(\"cab_rides_new_york.csv\")\n"
   ]
  },
  {
   "cell_type": "code",
   "execution_count": 17,
   "metadata": {},
   "outputs": [
    {
     "data": {
      "text/html": [
       "<div>\n",
       "<style scoped>\n",
       "    .dataframe tbody tr th:only-of-type {\n",
       "        vertical-align: middle;\n",
       "    }\n",
       "\n",
       "    .dataframe tbody tr th {\n",
       "        vertical-align: top;\n",
       "    }\n",
       "\n",
       "    .dataframe thead th {\n",
       "        text-align: right;\n",
       "    }\n",
       "</style>\n",
       "<table border=\"1\" class=\"dataframe\">\n",
       "  <thead>\n",
       "    <tr style=\"text-align: right;\">\n",
       "      <th></th>\n",
       "      <th>distance</th>\n",
       "      <th>cab_type</th>\n",
       "      <th>time_stamp</th>\n",
       "      <th>destination</th>\n",
       "      <th>source</th>\n",
       "      <th>price</th>\n",
       "      <th>surge_multiplier</th>\n",
       "      <th>id</th>\n",
       "      <th>product_id</th>\n",
       "      <th>name</th>\n",
       "    </tr>\n",
       "  </thead>\n",
       "  <tbody>\n",
       "    <tr>\n",
       "      <td>0</td>\n",
       "      <td>0.44</td>\n",
       "      <td>Lyft</td>\n",
       "      <td>1.540000e+12</td>\n",
       "      <td>North Station</td>\n",
       "      <td>Haymarket Square</td>\n",
       "      <td>5.0</td>\n",
       "      <td>1.0</td>\n",
       "      <td>424553bb-7174-41ea-aeb4-fe06d4f4b9d7</td>\n",
       "      <td>lyft_line</td>\n",
       "      <td>Shared</td>\n",
       "    </tr>\n",
       "    <tr>\n",
       "      <td>1</td>\n",
       "      <td>0.44</td>\n",
       "      <td>Lyft</td>\n",
       "      <td>1.540000e+12</td>\n",
       "      <td>North Station</td>\n",
       "      <td>Haymarket Square</td>\n",
       "      <td>11.0</td>\n",
       "      <td>1.0</td>\n",
       "      <td>4bd23055-6827-41c6-b23b-3c491f24e74d</td>\n",
       "      <td>lyft_premier</td>\n",
       "      <td>Lux</td>\n",
       "    </tr>\n",
       "    <tr>\n",
       "      <td>2</td>\n",
       "      <td>0.44</td>\n",
       "      <td>Lyft</td>\n",
       "      <td>1.540000e+12</td>\n",
       "      <td>North Station</td>\n",
       "      <td>Haymarket Square</td>\n",
       "      <td>7.0</td>\n",
       "      <td>1.0</td>\n",
       "      <td>981a3613-77af-4620-a42a-0c0866077d1e</td>\n",
       "      <td>lyft</td>\n",
       "      <td>Lyft</td>\n",
       "    </tr>\n",
       "    <tr>\n",
       "      <td>3</td>\n",
       "      <td>0.44</td>\n",
       "      <td>Lyft</td>\n",
       "      <td>1.540000e+12</td>\n",
       "      <td>North Station</td>\n",
       "      <td>Haymarket Square</td>\n",
       "      <td>26.0</td>\n",
       "      <td>1.0</td>\n",
       "      <td>c2d88af2-d278-4bfd-a8d0-29ca77cc5512</td>\n",
       "      <td>lyft_luxsuv</td>\n",
       "      <td>Lux Black XL</td>\n",
       "    </tr>\n",
       "    <tr>\n",
       "      <td>4</td>\n",
       "      <td>0.44</td>\n",
       "      <td>Lyft</td>\n",
       "      <td>1.540000e+12</td>\n",
       "      <td>North Station</td>\n",
       "      <td>Haymarket Square</td>\n",
       "      <td>9.0</td>\n",
       "      <td>1.0</td>\n",
       "      <td>e0126e1f-8ca9-4f2e-82b3-50505a09db9a</td>\n",
       "      <td>lyft_plus</td>\n",
       "      <td>Lyft XL</td>\n",
       "    </tr>\n",
       "  </tbody>\n",
       "</table>\n",
       "</div>"
      ],
      "text/plain": [
       "   distance cab_type    time_stamp    destination            source  price  \\\n",
       "0      0.44     Lyft  1.540000e+12  North Station  Haymarket Square    5.0   \n",
       "1      0.44     Lyft  1.540000e+12  North Station  Haymarket Square   11.0   \n",
       "2      0.44     Lyft  1.540000e+12  North Station  Haymarket Square    7.0   \n",
       "3      0.44     Lyft  1.540000e+12  North Station  Haymarket Square   26.0   \n",
       "4      0.44     Lyft  1.540000e+12  North Station  Haymarket Square    9.0   \n",
       "\n",
       "   surge_multiplier                                    id    product_id  \\\n",
       "0               1.0  424553bb-7174-41ea-aeb4-fe06d4f4b9d7     lyft_line   \n",
       "1               1.0  4bd23055-6827-41c6-b23b-3c491f24e74d  lyft_premier   \n",
       "2               1.0  981a3613-77af-4620-a42a-0c0866077d1e          lyft   \n",
       "3               1.0  c2d88af2-d278-4bfd-a8d0-29ca77cc5512   lyft_luxsuv   \n",
       "4               1.0  e0126e1f-8ca9-4f2e-82b3-50505a09db9a     lyft_plus   \n",
       "\n",
       "           name  \n",
       "0        Shared  \n",
       "1           Lux  \n",
       "2          Lyft  \n",
       "3  Lux Black XL  \n",
       "4       Lyft XL  "
      ]
     },
     "execution_count": 17,
     "metadata": {},
     "output_type": "execute_result"
    }
   ],
   "source": [
    "cabs.head()"
   ]
  },
  {
   "cell_type": "code",
   "execution_count": 18,
   "metadata": {},
   "outputs": [],
   "source": [
    "import matplotlib as plt\n",
    "%matplotlib inline\n"
   ]
  },
  {
   "cell_type": "markdown",
   "metadata": {},
   "source": [
    "#### 1.2 Create two arrays, storing the names of all source and destination locations.\n",
    "#### 1.3 Sort the two arrays and checks if the source and destination locations are identical"
   ]
  },
  {
   "cell_type": "code",
   "execution_count": 19,
   "metadata": {},
   "outputs": [],
   "source": [
    "dest=cabs.destination.unique()\n",
    "source=cabs.source.unique()\n",
    "dest.sort()\n",
    "source.sort()\n"
   ]
  },
  {
   "cell_type": "code",
   "execution_count": 20,
   "metadata": {},
   "outputs": [
    {
     "data": {
      "text/plain": [
       "array([ True,  True,  True,  True,  True,  True,  True,  True,  True,\n",
       "        True,  True,  True])"
      ]
     },
     "execution_count": 20,
     "metadata": {},
     "output_type": "execute_result"
    }
   ],
   "source": [
    "source==dest"
   ]
  },
  {
   "cell_type": "markdown",
   "metadata": {},
   "source": [
    "#### 1.4 Find out the different cab hailing companies (column=cab_type) and create seperate dataframes for each one of them. \n",
    "\n",
    "\n"
   ]
  },
  {
   "cell_type": "code",
   "execution_count": 21,
   "metadata": {},
   "outputs": [
    {
     "data": {
      "text/plain": [
       "array(['Lyft', 'Uber'], dtype=object)"
      ]
     },
     "execution_count": 21,
     "metadata": {},
     "output_type": "execute_result"
    }
   ],
   "source": [
    "cabs.cab_type.unique() "
   ]
  },
  {
   "cell_type": "code",
   "execution_count": 22,
   "metadata": {},
   "outputs": [],
   "source": [
    "lyft=cabs.loc[cabs.cab_type==\"Lyft\"]\n",
    "uber=cabs.loc[cabs.cab_type==\"Uber\"]"
   ]
  },
  {
   "cell_type": "markdown",
   "metadata": {},
   "source": [
    "#### 2. Create a new column called base price that removes the effects of the surge multiplier from the price of the cab. [base price=(price/surge multiplier)]\n",
    "\n"
   ]
  },
  {
   "cell_type": "code",
   "execution_count": 23,
   "metadata": {},
   "outputs": [
    {
     "name": "stderr",
     "output_type": "stream",
     "text": [
      "D:\\anaconda\\lib\\site-packages\\ipykernel_launcher.py:1: SettingWithCopyWarning: \n",
      "A value is trying to be set on a copy of a slice from a DataFrame.\n",
      "Try using .loc[row_indexer,col_indexer] = value instead\n",
      "\n",
      "See the caveats in the documentation: http://pandas.pydata.org/pandas-docs/stable/user_guide/indexing.html#returning-a-view-versus-a-copy\n",
      "  \"\"\"Entry point for launching an IPython kernel.\n",
      "D:\\anaconda\\lib\\site-packages\\ipykernel_launcher.py:2: SettingWithCopyWarning: \n",
      "A value is trying to be set on a copy of a slice from a DataFrame.\n",
      "Try using .loc[row_indexer,col_indexer] = value instead\n",
      "\n",
      "See the caveats in the documentation: http://pandas.pydata.org/pandas-docs/stable/user_guide/indexing.html#returning-a-view-versus-a-copy\n",
      "  \n"
     ]
    }
   ],
   "source": [
    "lyft[\"base price\"]=lyft[\"price\"]/lyft['surge_multiplier']\n",
    "uber[\"base price\"]=uber[\"price\"]/uber['surge_multiplier']\n"
   ]
  },
  {
   "cell_type": "markdown",
   "metadata": {},
   "source": [
    "#### 3. Use the lambda function, to create a new column in each company's dataframe such that it rounds of the distance value into integers.\n",
    "\n"
   ]
  },
  {
   "cell_type": "code",
   "execution_count": 24,
   "metadata": {},
   "outputs": [
    {
     "name": "stderr",
     "output_type": "stream",
     "text": [
      "D:\\anaconda\\lib\\site-packages\\ipykernel_launcher.py:1: SettingWithCopyWarning: \n",
      "A value is trying to be set on a copy of a slice from a DataFrame.\n",
      "Try using .loc[row_indexer,col_indexer] = value instead\n",
      "\n",
      "See the caveats in the documentation: http://pandas.pydata.org/pandas-docs/stable/user_guide/indexing.html#returning-a-view-versus-a-copy\n",
      "  \"\"\"Entry point for launching an IPython kernel.\n",
      "D:\\anaconda\\lib\\site-packages\\ipykernel_launcher.py:2: SettingWithCopyWarning: \n",
      "A value is trying to be set on a copy of a slice from a DataFrame.\n",
      "Try using .loc[row_indexer,col_indexer] = value instead\n",
      "\n",
      "See the caveats in the documentation: http://pandas.pydata.org/pandas-docs/stable/user_guide/indexing.html#returning-a-view-versus-a-copy\n",
      "  \n"
     ]
    }
   ],
   "source": [
    "lyft['distancelevel']=lyft.apply(lambda x: round(x['distance']),axis=1)\n",
    "uber['distancelevel']=uber.apply(lambda x: round(x['distance']),axis=1)"
   ]
  },
  {
   "cell_type": "markdown",
   "metadata": {},
   "source": [
    "#### 4. Assuming that for the shortest distance (distance level=0), the lowest price (minimum price) for any given category represents the basic fee of the ride, run a for loop for all the categories and store the result in the list given below:\n",
    "The list should be two dimensional, with each object being a smaller list. An example of this is as follow: \n",
    "-[[Name, min price],[name1,min_price1].....]"
   ]
  },
  {
   "cell_type": "code",
   "execution_count": 25,
   "metadata": {},
   "outputs": [],
   "source": [
    "#for type 1 \n",
    "\n",
    "temp=[]\n",
    "for i in lyft.name.unique():\n",
    "    k=lyft.loc[lyft.name==i]\n",
    "    temp.append([i,k.loc[k.distancelevel==0][\"base price\"].min()])\n",
    "    \n",
    "\n",
    "    \n",
    "temp = pd.DataFrame(temp,columns=['Name','Price'])"
   ]
  },
  {
   "cell_type": "code",
   "execution_count": 26,
   "metadata": {},
   "outputs": [],
   "source": [
    "#for type 2\n",
    "\n",
    "temp1=[]\n",
    "for i in uber.name.unique():\n",
    "    k=uber.loc[uber.name==i]\n",
    "    temp1.append([i,k.loc[k.distancelevel==0][\"base price\"].min()])\n",
    "    \n",
    "\n",
    "temp1=pd.DataFrame(temp1,columns=['Name','Price'])\n"
   ]
  },
  {
   "cell_type": "markdown",
   "metadata": {},
   "source": [
    "#### 5. Using Matplotlib, create bar charts for the dataframes created in the previous question.(Name-X axis, Price-Yaxis)). The process for the same is given here: https://www.tutorialspoint.com/matplotlib/matplotlib_bar_plot.htm\n"
   ]
  },
  {
   "cell_type": "code",
   "execution_count": 27,
   "metadata": {},
   "outputs": [
    {
     "data": {
      "image/png": "[encoded data removed]",
      "text/plain": [
       "<Figure size 432x288 with 1 Axes>"
      ]
     },
     "metadata": {
      "needs_background": "light"
     },
     "output_type": "display_data"
    }
   ],
   "source": [
    "#temp\n",
    "\n",
    "import matplotlib.pyplot as plt\n",
    "fig = plt.figure()\n",
    "ax = fig.add_axes([0,0,1,1])\n",
    "temp=temp.sort_values(\"Price\")\n",
    "\n",
    "ax.bar(temp['Name'],temp['Price'])\n",
    "plt.show()"
   ]
  },
  {
   "cell_type": "code",
   "execution_count": 28,
   "metadata": {},
   "outputs": [
    {
     "data": {
      "image/png": "[encoded data removed]",
      "text/plain": [
       "<Figure size 432x288 with 1 Axes>"
      ]
     },
     "metadata": {
      "needs_background": "light"
     },
     "output_type": "display_data"
    }
   ],
   "source": [
    "#temp1\n",
    "import matplotlib.pyplot as plt\n",
    "fig = plt.figure()\n",
    "ax = fig.add_axes([0,0,1,1])\n",
    "temp1=temp1.sort_values(\"Price\")\n",
    "ax.bar(temp1['Name'],temp1['Price'])\n",
    "plt.show()\n"
   ]
  },
  {
   "cell_type": "markdown",
   "metadata": {},
   "source": [
    "#### 6. Assess these bar charts to identify which categories from each cab hailing company map to one another in terms of their basic fee. \n",
    "-Example: Uber's uberpool maps with lyft's shared "
   ]
  },
  {
   "cell_type": "markdown",
   "metadata": {},
   "source": [
    "######  uberpool: Shared \n",
    "###### uberX: Lyft \n",
    "###### WAV: LiftXL\n",
    "###### UberXL: Lux\n",
    "###### Black: Lux Black \n",
    "###### BlackSUV: LuxBlackXL"
   ]
  },
  {
   "cell_type": "code",
   "execution_count": null,
   "metadata": {},
   "outputs": [],
   "source": []
  }
 ],
 "metadata": {
  "kernelspec": {
   "display_name": "Python 3",
   "language": "python",
   "name": "python3"
  },
  "language_info": {
   "codemirror_mode": {
    "name": "ipython",
    "version": 3
   },
   "file_extension": ".py",
   "mimetype": "text/x-python",
   "name": "python",
   "nbconvert_exporter": "python",
   "pygments_lexer": "ipython3",
   "version": "3.7.4"
  }
 },
 "nbformat": 4,
 "nbformat_minor": 2
}
